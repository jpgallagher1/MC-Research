{
 "cells": [
  {
   "cell_type": "markdown",
   "id": "3bdaeeb3",
   "metadata": {},
   "source": [
    "# Scratch Notebook for Testing Objects"
   ]
  },
  {
   "cell_type": "code",
   "execution_count": null,
   "id": "31c6574f",
   "metadata": {},
   "outputs": [],
   "source": [
    "# -*- coding: utf-8 -*-\n",
    "\"\"\"\n",
    "Module Name: test.py\n",
    "\n",
    "Description:\n",
    "    Test script for the sampler.py module.\n",
    "\n",
    "Author: John Gallagher\n",
    "Created: 2025-06-12\n",
    "Last Modified: 2025-06-12\n",
    "Version: 1.0.0\n",
    "\n",
    "\"\"\"\n",
    "import numpy as np\n",
    "import pandas as pd\n",
    "import matplotlib.pyplot as plt\n",
    "from sampler import Sampler, gauss_f, nongauss_f\n"
   ]
  },
  {
   "cell_type": "code",
   "execution_count": null,
   "id": "7abbfaee",
   "metadata": {},
   "outputs": [],
   "source": [
    "sampler = Sampler(target_function=nongauss_f, n=100000, sigma=12, seed=1234)\n",
    "sampler.metropolis(initial_val=0.1)\n",
    "sampler.plot_1dim_samples(x_range=(-10, 10), n_points=10000, bins=50, which='Accepted')"
   ]
  },
  {
   "cell_type": "code",
   "execution_count": null,
   "id": "1f808460",
   "metadata": {},
   "outputs": [],
   "source": [
    "sampler = Sampler(target_function=gauss_f, n=100000, sigma=12, seed=1234)\n",
    "sampler.metropolis(initial_val=0.1)\n",
    "sampler.plot_1dim_samples(x_range=(-10, 10), n_points=10000, bins=50, which='Accepted')"
   ]
  },
  {
   "cell_type": "code",
   "execution_count": null,
   "id": "c0fc413d",
   "metadata": {},
   "outputs": [],
   "source": [
    "mu = np.array([0, 0])\n",
    "cov = np.array([[1, 0.6], [0.6, 1]])\n",
    "x = np.random.multivariate_normal(mu, cov, 1000).T\n",
    "z = np.array([np.exp(-1*x[:, i].dot(np.linalg.inv(cov)).dot(x[:, i])) for i in range(x.shape[1])])"
   ]
  },
  {
   "cell_type": "markdown",
   "id": "288647db",
   "metadata": {},
   "source": []
  },
  {
   "cell_type": "code",
   "execution_count": null,
   "id": "9dfdc573",
   "metadata": {},
   "outputs": [],
   "source": [
    "import matplotlib.pyplot as plt\n",
    "from mpl_toolkits.mplot3d import Axes3D\n",
    "\n",
    "cov = np.array([[1, 0.6], [0.6, 1]])\n",
    "# Generate grid for plotting\n",
    "x_vals = np.linspace(-4, 4, 100)\n",
    "y_vals = np.linspace(-4, 4, 100)\n",
    "X, Y = np.meshgrid(x_vals, y_vals)\n",
    "\n",
    "# Compute Z values for the surface\n",
    "Z = np.exp(-np.einsum('ij,ij->i', np.c_[X.ravel(), Y.ravel()].dot(np.linalg.inv(cov)), np.c_[X.ravel(), Y.ravel()])).reshape(X.shape)\n",
    "\n",
    "scaling_factor = 1/np.sqrt(np.linalg.det(2 * np.pi  * cov))\n",
    "Z *= scaling_factor\n",
    "\n",
    "# Plot the 3D surface\n",
    "fig = plt.figure(figsize=(10, 8))\n",
    "ax = fig.add_subplot(111, projection='3d')\n",
    "surf = ax.plot_surface(X, Y, Z, cmap='viridis', edgecolor='none')\n",
    "ax.set_title('3D Surface Plot')\n",
    "ax.set_xlabel('X-axis')\n",
    "ax.set_ylabel('Y-axis')\n",
    "ax.set_zlabel('Z-axis')\n",
    "fig.colorbar(surf, shrink=0.5, aspect=5)\n",
    "plt.show()"
   ]
  },
  {
   "cell_type": "code",
   "execution_count": null,
   "id": "7456b059",
   "metadata": {},
   "outputs": [],
   "source": [
    "def ndim_gauss_f(x, cov=np.eye(2)):\n",
    "    return np.exp(-x.dot(np.linalg.inv(cov)).dot(x))\n",
    "\n",
    "def gauss_f_ndim(x, cov=np.eye(2), mu=np.zeros(2)):\n",
    "    \"\"\"Multivariate Gaussian target distribution.\"\"\"\n",
    "    if type(x) == float or type(x) == int:\n",
    "        return np.exp(-0.5*(x-mu)**2 / cov**2)/(cov*np.sqrt(2*np.pi))\n",
    "    \n",
    "    if np.linalg.det(cov) <= 0:\n",
    "        raise ValueError(\"Covariance matrix must be symmetric positive definite.\")\n",
    "    k = len(x)\n",
    "    return 1/np.sqrt((2*np.pi)**k * np.linalg.det(2*np.pi*cov)) * np.exp(-0.5 * (x-mu).dot(np.linalg.inv(cov)).dot(x-mu))\n",
    "def gauss_f(x, sigma=1, mu=0):\n",
    "    \"\"\"Gaussian target distribution.\"\"\"\n",
    "    return 1/(sigma*np.sqrt(2*np.pi)) * np.exp(-0.5*(x-mu)**2 / sigma**2)\n",
    "def gauss_2dimf(x, cov=np.eye(2), mu=np.zeros(2)):\n",
    "    \"\"\"2D Gaussian target distribution.\"\"\"\n",
    "    return 1/np.sqrt((2*np.pi)**2 *np.linalg.det(cov)) * np.exp(-0.5 * (x-mu).dot(np.linalg.inv(cov).dot(x-mu)))"
   ]
  },
  {
   "cell_type": "code",
   "execution_count": null,
   "id": "ef430f47",
   "metadata": {},
   "outputs": [],
   "source": [
    "np.array([1,1]).dot(np.linalg.inv(np.eye(2)).dot(np.array([1,1])))"
   ]
  },
  {
   "cell_type": "code",
   "execution_count": null,
   "id": "7301d6c8",
   "metadata": {},
   "outputs": [],
   "source": [
    "print(gauss_f(2))\n",
    "print(gauss_f(2)**2)\n",
    "print(gauss_2dimf(np.array([1, 1])))\n",
    "print(gauss_f_ndim(np.array([1,1])))"
   ]
  },
  {
   "cell_type": "code",
   "execution_count": null,
   "id": "8afd0113",
   "metadata": {},
   "outputs": [],
   "source": [
    "# Now to plot the 2D Gaussian of my function\n",
    "# https://www.youtube.com/watch?v=pkVwUVEHmfI&ab_channel=AladdinPersson\n",
    "# Per the video, when in doubt use the for loops.  \n",
    "# I will not use the einsum... yet\n",
    "\n",
    "cov = np.array([[1, 0], [0, 1]])\n",
    "# Generate grid for plotting\n",
    "x_vals = np.linspace(-4, 4, 100)\n",
    "y_vals = np.linspace(-4, 4, 100)\n",
    "X, Y = np.meshgrid(x_vals, y_vals)\n",
    "\n",
    "Z2 = np.zeros(X.shape)\n",
    "for i in range(X.shape[0]):\n",
    "    for j in range(Y.shape[1]):\n",
    "        Z2[i, j] = ndim_gauss_f(np.array([X[i, j], Y[i, j]]), cov=cov)\n",
    "\n",
    "# Plot the 3D surface\n",
    "fig = plt.figure(figsize=(10, 8))\n",
    "ax = fig.add_subplot(111, projection='3d')\n",
    "surf = ax.plot_surface(X, Y, (Z2), cmap='viridis', edgecolor='none')\n",
    "ax.set_title('3D Surface Plot')\n",
    "ax.set_xlabel('X-axis')\n",
    "ax.set_ylabel('Y-axis')\n",
    "ax.set_zlabel('Z-axis')\n",
    "fig.colorbar(surf, shrink=0.5, aspect=5)\n",
    "plt.show()"
   ]
  },
  {
   "cell_type": "code",
   "execution_count": null,
   "id": "4b730042",
   "metadata": {},
   "outputs": [],
   "source": [
    "def gauss_2dimf(x, cov=None):\n",
    "    \"\"\"2D Gaussian target distribution.\"\"\"\n",
    "    if cov is None:\n",
    "        cov = np.eye(2)\n",
    "    return np.exp(-x.dot(np.linalg.inv(cov).dot(x)))\n",
    "\n",
    "x_vals = np.linspace(-3, 3, 100)\n",
    "y_vals = np.linspace(-3, 3, 100)\n",
    "X, Y = np.meshgrid(x_vals, y_vals)"
   ]
  },
  {
   "cell_type": "code",
   "execution_count": null,
   "id": "60dbe05a",
   "metadata": {},
   "outputs": [],
   "source": [
    "np.c_[(X.ravel(), Y.ravel())]"
   ]
  },
  {
   "cell_type": "code",
   "execution_count": null,
   "id": "aa3a3f3f",
   "metadata": {},
   "outputs": [],
   "source": [
    "import numpy as np\n",
    "import matplotlib.pyplot as plt\n",
    "\n",
    "def banana_distribution(n_samples, a=2, b=1, mu=np.zeros(2), sigma=np.array([[1, 0.9], [0.9, 1]])):\n",
    "    \"\"\"\n",
    "    Generates samples from a banana-shaped distribution.\n",
    "\n",
    "    Args:\n",
    "        n_samples (int): The number of samples to generate.\n",
    "        a (float): Parameter controlling the curvature of the banana.\n",
    "        b (float): Parameter controlling the skew of the banana.\n",
    "        mu (np.ndarray): Mean vector of the underlying Gaussian distribution.\n",
    "        sigma (np.ndarray): Covariance matrix of the underlying Gaussian distribution.\n",
    "\n",
    "    Returns:\n",
    "        np.ndarray: A 2D array of samples from the banana distribution.\n",
    "    \"\"\"\n",
    "    u = np.random.multivariate_normal(mu, sigma, n_samples)\n",
    "    x = a * u[:, 0]\n",
    "    y = (u[:, 1] / a) - b * (u[:, 0] ** 2 + a ** 2)\n",
    "    return np.column_stack((x, y))\n",
    "\n",
    "# Generate 1000 samples from the banana distribution\n",
    "samples = banana_distribution(10000)\n",
    "\n",
    "# Plot the samples as a 2D histogram\n",
    "plt.figure(figsize=(8, 6))\n",
    "plt.hist2d(samples[:, 0], samples[:, 1], bins=80, density=True, cmap='viridis')\n",
    "plt.colorbar(label='Density')\n",
    "plt.title(\"Banana Distribution\")\n",
    "plt.xlabel(\"x\")\n",
    "plt.ylabel(\"y\")\n",
    "plt.grid(True)\n",
    "plt.show()"
   ]
  },
  {
   "cell_type": "markdown",
   "id": "2ef85134",
   "metadata": {},
   "source": [
    "Trying to generate a 2-dim 'banana' distribution"
   ]
  },
  {
   "cell_type": "code",
   "execution_count": null,
   "id": "698e2ec3",
   "metadata": {},
   "outputs": [],
   "source": [
    "COVMAT = np.array([[1, 0.9], [0.9, 1]])\n",
    "\n",
    "\n",
    "def banana(a, b):\n",
    "    u1 = np.random.normal(0, 1)\n",
    "\n",
    "    x = np.random.normal(0, 1)*a\n",
    "    y = np.random.normal(0, 1)/a + b*nprandom.normal(0, 1)\n",
    "    return "
   ]
  },
  {
   "cell_type": "code",
   "execution_count": null,
   "id": "2f1dce4f",
   "metadata": {},
   "outputs": [],
   "source": [
    "X = np.random.normal(0, 1, size=(10000))\n",
    "X +=  X**2/10\n",
    "Y = np.random.normal(0, 1.5, size=(10000)) \n",
    "plt.hist2d(X,Y, bins=50, density=True)"
   ]
  },
  {
   "cell_type": "code",
   "execution_count": null,
   "id": "b33b2f77",
   "metadata": {},
   "outputs": [],
   "source": []
  },
  {
   "cell_type": "code",
   "execution_count": null,
   "id": "27dd5154",
   "metadata": {},
   "outputs": [],
   "source": [
    "import matplotlib.pyplot as plt\n",
    "import numpy as np\n",
    "\n",
    "plt.style.use('_mpl-gallery-nogrid')\n",
    "\n",
    "# make data\n",
    "X, Y = np.meshgrid(np.linspace(-3, 3, 256), np.linspace(-3, 3, 256))\n",
    "Z = (1 - X/2 + X**5 + Y**3) * np.exp(-X**2 - Y**2)\n",
    "levels = np.linspace(Z.min(), Z.max(), 7)\n",
    "\n",
    "# plot\n",
    "fig, ax = plt.subplots()\n",
    "\n",
    "ax.contourf(X, Y, Z, levels=levels)\n",
    "\n",
    "plt.show()"
   ]
  },
  {
   "cell_type": "code",
   "execution_count": null,
   "id": "aaaf42a9",
   "metadata": {},
   "outputs": [],
   "source": []
  }
 ],
 "metadata": {
  "language_info": {
   "name": "python"
  }
 },
 "nbformat": 4,
 "nbformat_minor": 5
}

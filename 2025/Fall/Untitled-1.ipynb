{
 "cells": [
  {
   "cell_type": "code",
   "execution_count": null,
   "id": "9f2c6843",
   "metadata": {},
   "outputs": [],
   "source": []
  },
  {
   "cell_type": "code",
   "execution_count": null,
   "id": "d7fac0ca",
   "metadata": {},
   "outputs": [],
   "source": [
    "import numpy as np\n",
    "import matplotlib.pyplot as plt\n",
    "import jax\n",
    "import jax.numpy as jnp\n",
    "from jax import jit\n",
    "from functools import partial\n",
    "import time\n",
    "\n",
    "def gauss_ndimf_jax(x, precision_matrix = None, cov=None, dim = 2):\n",
    "    \"\"\"n-Dim Gaussian target distribution.\"\"\"\n",
    "    dim = len(x)\n",
    "    # Error Classes\n",
    "    class MultipleMatrices(Exception):\n",
    "        pass\n",
    "    # dealing with getting a precision matrix or cov matrix\n",
    "    if precision_matrix is not None and cov is not None:\n",
    "        raise MultipleMatrices(\"Please supply either a Precision Matrix or a Covariance Matrix\")\n",
    "    if precision_matrix is None and cov is not None:\n",
    "        precision_matrix = jnp.linalg.inv(cov)\n",
    "    if precision_matrix is None and cov is None:\n",
    "        precision_matrix = jnp.eye(dim)\n",
    "        # jnp.linalg.det(precision_matrix)**(-1/2)\n",
    "        # (2*jnp.pi)**(-dim/2)*\n",
    "    return (2*jnp.pi)**(-dim/2)*jnp.exp(-x@precision_matrix@x)\n",
    "\n",
    "@jit\n",
    "def qex(qp):\n",
    "  return qp[:dim]\n",
    "@jit\n",
    "def pex(qp):\n",
    "  return qp[dim:]\n",
    "def draw_p(qp, key):\n",
    "    q = qex(qp)\n",
    "    p = jax.random.normal(key,shape = (dim,))\n",
    "    return jnp.concatenate([q,p]), None\n",
    "# @jit\n",
    "# vdraw_p = jax.vmap(draw_p)"
   ]
  },
  {
   "cell_type": "code",
   "execution_count": null,
   "id": "e10dd00c",
   "metadata": {},
   "outputs": [],
   "source": []
  },
  {
   "cell_type": "code",
   "execution_count": null,
   "id": "2a6132fe",
   "metadata": {},
   "outputs": [],
   "source": [
    "def ham(x):\n",
    "    return jnp.dot(x,x)\n",
    "def xdot(x, y):\n",
    "    return -y, x\n",
    "\n",
    "gradHx = jax.grad(ham)\n",
    "\n",
    "gradHx(jnp.array([1.,2.]))\n",
    "\n",
    "# ham(jnp.array([1.,2.]))"
   ]
  },
  {
   "cell_type": "code",
   "execution_count": null,
   "id": "6292ff40",
   "metadata": {},
   "outputs": [],
   "source": [
    "def xdot(qp):\n",
    "    return pex()"
   ]
  }
 ],
 "metadata": {
  "language_info": {
   "name": "python"
  }
 },
 "nbformat": 4,
 "nbformat_minor": 5
}

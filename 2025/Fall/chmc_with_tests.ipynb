{
 "cells": [
  {
   "cell_type": "code",
   "execution_count": null,
   "metadata": {},
   "outputs": [],
   "source": [
    "\"\"\"\n",
    "Description:\n",
    "    CHMC Implementation with AVF: FPI\n",
    "    USE THE CORRECT ENVIRONMENT:  CHMC_FALL_2025\n",
    "    YYYY-MM-DD\n",
    "\n",
    "Author: John Gallagher\n",
    "Created: 2025-09-28\n",
    "Last Modified: 2025-10-09\n",
    "Version: 1.0.0\n",
    "\n",
    "\"\"\"\n",
    "\n",
    "import numpy as np\n",
    "import matplotlib.pyplot as plt\n",
    "import jax\n",
    "import jax.numpy as jnp\n",
    "from jax import jit\n",
    "from functools import partial\n",
    "import time\n",
    "\n",
    "jax.config.update(\"jax_enable_x64\", True)\n",
    "\n",
    "\n",
    "@jit\n",
    "def gauss_ndimf_jax(x, precision_matrix=None, cov=None, dim=2):\n",
    "    \"\"\"n-Dim Gaussian target distribution.\"\"\"\n",
    "    dim = len(x)\n",
    "\n",
    "    # Error Classes\n",
    "    class MultipleMatrices(Exception):\n",
    "        pass\n",
    "\n",
    "    # dealing with getting a precision matrix or cov matrix\n",
    "    if precision_matrix is not None and cov is not None:\n",
    "        raise MultipleMatrices(\n",
    "            \"Please supply either a Precision Matrix or a Covariance Matrix\"\n",
    "        )\n",
    "    if precision_matrix is None and cov is not None:\n",
    "        precision_matrix = jnp.linalg.inv(cov)\n",
    "    if precision_matrix is None and cov is None:\n",
    "        precision_matrix = jnp.eye(dim)\n",
    "        # jnp.linalg.det(precision_matrix)**(-1/2)\n",
    "        # (2*jnp.pi)**(-dim/2)*\n",
    "    return 0.5 * (x @ precision_matrix @ x)\n",
    "\n",
    "\n",
    "def qex(qp):\n",
    "    \"\"\"\n",
    "    qex: q extracted from qp state vector\n",
    "    \"\"\"\n",
    "    dim = len(qp) // 2\n",
    "    return qp[:dim]\n",
    "\n",
    "\n",
    "def pex(qp):\n",
    "    \"\"\"\n",
    "    pex: p extracted from qp state vector\n",
    "    \"\"\"\n",
    "    dim = len(qp) // 2\n",
    "    return qp[dim:]\n",
    "\n",
    "\n",
    "def J_sym(vec):\n",
    "    \"\"\"\n",
    "    J is the symplectic Jacobian matrix for Hamiltonians where J = ([[0, I]])\n",
    "    \"\"\"\n",
    "    dim = len(vec) // 2\n",
    "    return jnp.concatenate([vec[dim:], -vec[:dim]])\n",
    "\n",
    "\n",
    "def qJ_sym(vec):\n",
    "    \"\"\"\n",
    "    updates q side of vector with qdot = p\n",
    "    Returns\n",
    "    array([p], [0])\n",
    "    \"\"\"\n",
    "    dim = len(vec) // 2\n",
    "    return jnp.concatenate([vec[dim:], jnp.zeros(dim)])\n",
    "\n",
    "\n",
    "def pJ_sym(vec):\n",
    "    \"\"\"\n",
    "    qp with p = -qdot only\n",
    "    Returns\n",
    "    array([p], [0])\n",
    "    \"\"\"\n",
    "    dim = len(vec) // 2\n",
    "    return jnp.concatenate([jnp.zeros(dim), -vec[:dim]])\n",
    "\n",
    "\n",
    "def draw_p(qp, key):\n",
    "    q = qex(qp)\n",
    "    p = jax.random.normal(key, shape=(dim,))\n",
    "    return jnp.concatenate([q, p]), None\n",
    "\n",
    "\n",
    "def gen_leapfrog(gradH, tau, N):\n",
    "    def leapfrog(qp):\n",
    "        \"\"\"\n",
    "        Requires gradH, tau, N\n",
    "        Leapfrog integrator\n",
    "        Takes state vector qp, and integrates it according to hamiltonian Ham\n",
    "\n",
    "        \"\"\"\n",
    "\n",
    "        def lf_step(carry_in, _):\n",
    "            qp0 = carry_in\n",
    "            qhalf_p0 = qp0 + 0.5 * tau * qJ_sym(gradH(qp0))\n",
    "            qhalf_pout = qhalf_p0 + tau * pJ_sym(gradH(qhalf_p0))\n",
    "            qp_out = qhalf_pout + 0.5 * tau * qJ_sym(gradH(qhalf_pout))\n",
    "            return qp_out, _\n",
    "\n",
    "        qp_final, _ = jax.lax.scan(lf_step, qp, xs=None, length=N)\n",
    "        return qp_final\n",
    "\n",
    "    return leapfrog\n",
    "\n",
    "\n",
    "def midpointFPI(qp, tol=1e-3, max_iter=10, solve=jnp.linalg.solve):\n",
    "    \"\"\"\n",
    "    FPI_mid integrator\n",
    "    Requries qp:statevector, and gradH defined before hand\n",
    "\n",
    "    y(i+1) = y(i) + tau * J_sym GradH( 0.5*(y(i)+y(i+1)))\n",
    "\n",
    "    \"\"\"\n",
    "    x0 = qp\n",
    "\n",
    "    def G(y):\n",
    "        \"\"\"\n",
    "        G(y) = x0 + tau * J_sym GradH( 0.5*(x+y))\n",
    "        \"\"\"\n",
    "        midpoint = 0.5 * (x0 + y)\n",
    "        return x0 + tau * J_sym(gradH(midpoint))\n",
    "\n",
    "    def F(y):\n",
    "        return y - G(y)\n",
    "\n",
    "    def newton_step(qp):\n",
    "        jacF = jax.jacobian(F)\n",
    "        qpout = x0 - solve(jacF(qp), F(qp))\n",
    "        return qpout\n",
    "\n",
    "    def cond(carry):\n",
    "        i, qp = carry\n",
    "        Fqp = F(qp)\n",
    "        err = jnp.linalg.norm(Fqp)\n",
    "        return (err > tol) & (i < max_iter)\n",
    "\n",
    "    def body_step(carry):\n",
    "        i, qp = carry\n",
    "        return [i + 1, newton_step(qp)]\n",
    "\n",
    "    _, qp_out = jax.lax.while_loop(cond, body_step, [0, qp])\n",
    "    return qp_out\n",
    "\n",
    "\n",
    "def accept(delta, key):\n",
    "    alpha = jnp.minimum(1.0, jnp.exp(delta))\n",
    "    u = jax.random.uniform(key, shape=())\n",
    "    return u <= alpha\n",
    "\n",
    "\n",
    "def hmc_kernel(carry_in, key):\n",
    "    carry, _, _ = carry_in\n",
    "    qp0, _ = draw_p(carry, key)\n",
    "    qp_star = jit_integrator(qp0)\n",
    "    deltaH = jit_H(qp0) - jit_H(qp_star)  # -(final - init) = init -final\n",
    "    is_accepted = accept(deltaH, key)\n",
    "    qp_out = jnp.where(is_accepted, qp_star, qp0)\n",
    "    carry_out = [qp_out, deltaH, is_accepted]\n",
    "    return carry_out, carry_out\n",
    "\n",
    "\n",
    "def hmc_sampler(initial_sample, keys, ):\n",
    "    _, samples = jax.lax.scan(hmc_kernel, initial_sample, xs=keys)\n",
    "    return samples\n",
    "\n",
    "\n",
    "def hamiltionian(qp):\n",
    "    q, p = qex(qp), pex(qp)\n",
    "    return 0.5 * jnp.sum(p @ Mass_inv @ p) - jnp.log(target(q))\n",
    "\n",
    "\n",
    "def J_H(gH):\n",
    "    \"\"\"Same operation as Symplectic Jacobian\"\"\"\n",
    "    return jnp.concatenate([gH[dim:], -gH[:dim]])\n",
    "\n",
    "\n",
    "target = jit(gauss_ndimf_jax)\n",
    "grad_target = jit(jax.grad(target))\n",
    "jit_H = jit(hamiltionian)\n",
    "gradH = jax.jit(jax.grad(hamiltionian))\n",
    "\n",
    "# jit_integrator = jax.jit(leapfrog)\n",
    "jit_integrator = jit(midpointFPI)\n",
    "\n",
    "# Set parameters\n",
    "key = jax.random.PRNGKey(1)\n",
    "dim = 2\n",
    "initnum_samples = 1\n",
    "mainnum_samples = 10000\n",
    "keys_start = jax.random.split(key, initnum_samples)\n",
    "keys_main = jax.random.split(key, mainnum_samples)\n",
    "qp_init = jax.random.normal(key, shape=(2 * dim,))\n",
    "\n",
    "# Structure of carry\n",
    "# init_sample: [Array: sample, float: deltaH, bool: Accepted]\n",
    "init_sample = [qp_init, 1, False]\n",
    "Mass_inv = jnp.eye(dim)\n",
    "tau = 0.2\n",
    "T = 1\n",
    "tol = 1e-4\n",
    "max_iter = 100\n",
    "# compile\n",
    "start = time.time()\n",
    "jhmc_sampler = jit(hmc_sampler)\n",
    "sample_FPI = jhmc_sampler(init_sample, keys_start)\n",
    "end = time.time()\n",
    "print(\"1st run:\", end - start)\n",
    "# main run\n",
    "start = time.time()\n",
    "sample_FPI = jhmc_sampler(init_sample, keys_main)\n",
    "end = time.time()\n",
    "print(\n",
    "    f\"{mainnum_samples} runs: {end - start:.2f} \\n 1 run:  {(end-start)/mainnum_samples}\"\n",
    ")"
   ]
  },
  {
   "cell_type": "code",
   "execution_count": null,
   "metadata": {},
   "outputs": [],
   "source": [
    "keys_start.shape"
   ]
  },
  {
   "cell_type": "code",
   "execution_count": null,
   "metadata": {},
   "outputs": [],
   "source": [
    "def gen_hmc_kernel(H, tau, N):\n",
    "    gradH = jax.grad(H)\n",
    "    integrator = gen_leapfrog(gradH, tau, N)\n",
    "\n",
    "    def hmc_kernel(carry_in, key):\n",
    "        carry, _, _ = carry_in\n",
    "        qp0, _ = draw_p(carry, key)\n",
    "        print(qp0)\n",
    "        qp_star = integrator(qp0)\n",
    "        deltaH = H(qp0) - H(qp_star)  # -(final - init) = init -final\n",
    "        is_accepted = accept(deltaH, key)\n",
    "        qp_out = jnp.where(is_accepted, qp_star, qp0)\n",
    "        carry_out = [qp_out, deltaH, is_accepted]\n",
    "        return carry_out, carry_out\n",
    "    return hmc_kernel\n",
    "def hmc_sampler(initial_sample, keys, H, tau, T):\n",
    "    N = jnp.ceil(T/tau).astype(int)\n",
    "    hmc_kernel = gen_hmc_kernel(H, tau, N)\n",
    "    _, samples = jax.lax.scan(hmc_kernel, initial_sample, xs=keys)\n",
    "    return samples\n",
    "\n",
    "hmc_sampler([qp_init, 1, False], keys_start, hamiltionian, 0.2, 0.2)"
   ]
  },
  {
   "cell_type": "code",
   "execution_count": null,
   "metadata": {},
   "outputs": [],
   "source": [
    "qpstart = draw_p(qp_init, keys_start[1])"
   ]
  },
  {
   "cell_type": "code",
   "execution_count": null,
   "metadata": {},
   "outputs": [],
   "source": [
    "qpstart[0]"
   ]
  },
  {
   "cell_type": "code",
   "execution_count": null,
   "metadata": {},
   "outputs": [],
   "source": [
    "lftest = gen_leapfrog(gradH, 0.2, 1)\n",
    "lftest(qpstart[0])"
   ]
  },
  {
   "cell_type": "code",
   "execution_count": null,
   "metadata": {},
   "outputs": [],
   "source": [
    "N = jnp.ceil(0.2/0.2).astype(int)\n",
    "kerstep = gen_hmc_kernel(hamiltionian, 0.2, N)\n",
    "kerstep([qpstart[0],_ ,_], key)"
   ]
  },
  {
   "cell_type": "code",
   "execution_count": null,
   "metadata": {},
   "outputs": [],
   "source": [
    "def gen_explicit(dim2n):\n",
    "    nI = jnp.eye(n)\n",
    "    n = dim2n // 2\n",
    "    out = jnp.block([[nI, -nI][nI, nI]])\n",
    "    return out"
   ]
  },
  {
   "cell_type": "code",
   "execution_count": null,
   "metadata": {},
   "outputs": [],
   "source": [
    "import numpy as np\n",
    "dim = 1000\n",
    "initnum_samples = 1\n",
    "keys_start = jax.random.split(key, initnum_samples)\n",
    "\n",
    "\n",
    "# Structure of carry\n",
    "# init_sample: [Array: sample, float: deltaH, bool: Accepted]\n",
    "\n",
    "Mass_inv = jnp.eye(dim)\n",
    "# tau = 0.2\n",
    "T = 2 # update to be N = T_final//tau\n",
    "tol = 1e-4\n",
    "max_iter = 10\n",
    "\n",
    "\n",
    "steps = 11\n",
    "tau_set = jnp.linspace(0.1,.2,2)\n",
    "key2 = jax.random.PRNGKey(1)\n",
    "qp_init = jax.random.normal(key2, shape=(2*dim,))\n",
    "init_sample = [qp_init, 1, False]\n",
    "mainnum_samples = 1000\n",
    "tau_samples = np.zeros((mainnum_samples,dim,len(tau_set)))\n",
    "key_chain = []\n",
    "for i,t in enumerate(tau_set):\n",
    "    print(t)\n",
    "    tau = t\n",
    "    N = jnp.ceil(T/tau).astype(int)\n",
    "    jit_integrator = jax.jit(leapfrog, static_argnums=(1,2))\n",
    "    key1, key2 = jax.random.split(key2)\n",
    "    key_chain.append([key1, key2])\n",
    "    keys_main = jax.random.split(key1, mainnum_samples)\n",
    "    tau_samples[:,:,i] = hmc_sampler(init_sample, keys_main)\n",
    "    # print(samples_tau[0].shape)\n",
    "# collection_tau contains items \n",
    "#  tau: [Array: sample, float: deltaH, bool: Accepted]\n",
    "# collection_tau[1][1]\n",
    "# tau_acceptance_rate = np.zeros(steps)\n",
    "# for i, sample in enumerate(collection_tau):\n",
    "#     tau_acceptance_rate[i] = jnp.sum(sample[2])    \n"
   ]
  },
  {
   "cell_type": "code",
   "execution_count": null,
   "metadata": {},
   "outputs": [],
   "source": [
    "type(collection_tau[1][2])"
   ]
  },
  {
   "cell_type": "code",
   "execution_count": null,
   "metadata": {},
   "outputs": [],
   "source": [
    "plt.plot(tau_set, tau_acceptance_rate/mainnum_samples, marker = '*')\n",
    "plt.title(\"tau vs acceptance rate for samples\")"
   ]
  },
  {
   "cell_type": "code",
   "execution_count": null,
   "metadata": {},
   "outputs": [],
   "source": [
    "np.sum(jnp.array([True, False]))"
   ]
  },
  {
   "cell_type": "code",
   "execution_count": null,
   "metadata": {},
   "outputs": [],
   "source": [
    "jnp.sum(collection_tau[1][2])"
   ]
  },
  {
   "cell_type": "code",
   "execution_count": null,
   "metadata": {},
   "outputs": [],
   "source": [
    "plt.hist(collection_tau[10][1],bins=40, density=True)"
   ]
  },
  {
   "cell_type": "code",
   "execution_count": null,
   "metadata": {},
   "outputs": [],
   "source": [
    "plt.hist(collection_tau[2][1],bins=40, density=True)"
   ]
  },
  {
   "cell_type": "code",
   "execution_count": null,
   "metadata": {},
   "outputs": [],
   "source": [
    "plt.hist(collection_tau[3][1],bins=40, density=True)"
   ]
  },
  {
   "cell_type": "code",
   "execution_count": null,
   "metadata": {},
   "outputs": [],
   "source": [
    "plt.hist(collection_tau[10][1],bins=40, density=True)"
   ]
  },
  {
   "cell_type": "code",
   "execution_count": null,
   "metadata": {},
   "outputs": [],
   "source": [
    "plt.hist(collection_tau[0][1],bins=40, density=True)"
   ]
  },
  {
   "cell_type": "code",
   "execution_count": null,
   "metadata": {},
   "outputs": [],
   "source": [
    "plt.hist(np.array(sample_LF[1]), density=True)\n",
    "plt.title('Histogram of deltaH sample_LF')"
   ]
  },
  {
   "cell_type": "code",
   "execution_count": null,
   "metadata": {},
   "outputs": [],
   "source": [
    "#set integrator\n",
    "jit_integrator = jax.jit(leapfrog)\n",
    "\n",
    "#change rngkey\n",
    "\n",
    "key = jax.random.PRNGKey(4)\n",
    "dim = 30\n",
    "initnum_samples = 1\n",
    "mainnum_samples = 1000\n",
    "keys_start = jax.random.split(key, initnum_samples)\n",
    "keys_main = jax.random.split(key, mainnum_samples)\n",
    "qp_init = jax.random.normal(key, shape=(2*dim,))\n",
    "Mass_inv = jnp.eye(dim)\n",
    "tau = 0.2\n",
    "T = 1\n",
    "tol = 1e-4\n",
    "max_iter = 1000\n",
    "# compile\n",
    "start=time.time()\n",
    "jhmc_sampler = jit(hmc_sampler)\n",
    "sample_LF = jhmc_sampler(init_sample, keys_start)\n",
    "end = time.time()\n",
    "print(\"1st run:\", end-start)\n",
    "# main run\n",
    "start = time.time()\n",
    "sample_LF = jhmc_sampler(init_sample, keys_main)\n",
    "end = time.time()\n",
    "print(f\"{mainnum_samples} runs: {end - start:.2f} \\n 1 run:  {(end-start)/mainnum_samples}\")"
   ]
  },
  {
   "cell_type": "code",
   "execution_count": null,
   "metadata": {},
   "outputs": [],
   "source": [
    "# np.savetxt('sample_LF.csv', sample_LF, delimiter=',')\n",
    "# np.savetxt('sample_FPI.csv', sample_FPI, delimiter=',')"
   ]
  },
  {
   "cell_type": "code",
   "execution_count": null,
   "metadata": {},
   "outputs": [],
   "source": []
  },
  {
   "cell_type": "code",
   "execution_count": null,
   "metadata": {},
   "outputs": [],
   "source": []
  },
  {
   "cell_type": "code",
   "execution_count": null,
   "metadata": {},
   "outputs": [],
   "source": [
    "plt.hist(np.array(sample_LF[1]), density=True)\n",
    "plt.title('Histogram of deltaH sample_LF')"
   ]
  },
  {
   "cell_type": "code",
   "execution_count": null,
   "metadata": {},
   "outputs": [],
   "source": [
    "plt."
   ]
  },
  {
   "cell_type": "code",
   "execution_count": null,
   "metadata": {},
   "outputs": [],
   "source": [
    "def plot2vecHist(sample, col1, col2, numbins=50):\n",
    "    fig, ax1 = plt.subplots()\n",
    "    ax1.hist2d(np.array(sample[0][:,col1]),np.array(sample[0][:,col2]), bins=numbins, density = True)\n",
    "    ax1.set_xlabel(f'Dim_{col1} Values')\n",
    "    ax1.set_ylabel(f'Dim_{col2} Values')\n",
    "    ax1.set_title(f'Sample_LF x:Dim_{col1}, y:Dim_{col2}, histogram Accepted Distribution')\n",
    "    plt.show()\n",
    "plot2vecHist(sample_LF, 2,3)"
   ]
  },
  {
   "cell_type": "code",
   "execution_count": null,
   "metadata": {},
   "outputs": [],
   "source": [
    "sample_LF[:,2].shape"
   ]
  },
  {
   "cell_type": "code",
   "execution_count": null,
   "metadata": {},
   "outputs": [],
   "source": [
    "sample_LF[:,3].shape"
   ]
  },
  {
   "cell_type": "code",
   "execution_count": null,
   "metadata": {},
   "outputs": [],
   "source": [
    "import matplotlib.pyplot as plt\n",
    "\n",
    "\n",
    "fig, ax1 = plt.subplots()\n",
    "\n",
    "ax1.hist2d(np.array(sample_LF[0][:,2]),np.array(sample_LF[0][:,3]), bins=50, density = True)\n",
    "ax1.set_ylabel('Frequency')\n",
    "ax1.set_xlabel('x-Value')\n",
    "ax1.set_title('LF x:Dim_{col1}, y:Dim_{col2}, histogram Accepted Distribution')\n",
    "\n",
    "# Plot target distribution\n",
    "# # ax2 = ax1.twinx()\n",
    "# x_vals = np.linspace(-3, 3, 10000)\n",
    "# y_vals = [gauss_f(x)/(np.pi)**0.5 for x in x_vals]\n",
    "# ax1.plot(x_vals, y_vals, 'r-', label='Target Function')\n",
    "# ax1.set_ylabel('Target Function Value')\n",
    "# ax1.set_ylim(0, 0.6)\n",
    "\n",
    "plt.show()"
   ]
  },
  {
   "cell_type": "code",
   "execution_count": null,
   "metadata": {},
   "outputs": [],
   "source": [
    "sample_LF[:,:dim].shape"
   ]
  },
  {
   "cell_type": "code",
   "execution_count": null,
   "metadata": {},
   "outputs": [],
   "source": [
    "jit_integrator = jit(midpointFPI)\n",
    "# compile\n",
    "start=time.time()\n",
    "sample_FPI = hmc_sampler(qp_init, keys_start)\n",
    "end = time.time()\n",
    "print(\"1st run:\", end-start)\n",
    "# main run\n",
    "start = time.time()\n",
    "sample_FPI = hmc_sampler(qp_init, keys_main)\n",
    "end = time.time()\n",
    "print(f\"{mainnum_samples} runs: {end - start} \\n 1 run:  {(end-start)/mainnum_samples}\")\n"
   ]
  },
  {
   "cell_type": "code",
   "execution_count": null,
   "metadata": {},
   "outputs": [],
   "source": []
  },
  {
   "cell_type": "code",
   "execution_count": null,
   "metadata": {},
   "outputs": [],
   "source": [
    "# Calculate the number of unique samples for Leapfrog\n",
    "unique_samples_LF = jnp.unique(sample_LF[:,:dim], axis=0)\n",
    "num_unique_LF = unique_samples_LF.shape[0]\n",
    "print(f\"Number of unique samples (Leapfrog): {num_unique_LF}\")\n",
    "\n",
    "# Calculate the number of unique samples for Midpoint FPI\n",
    "unique_samples_FPI = jnp.unique(sample_FPI[:,:dim], axis=0)\n",
    "num_unique_FPI = unique_samples_FPI.shape[0]\n",
    "print(f\"Number of unique samples (Midpoint FPI): {num_unique_FPI}\")\n",
    "\n",
    "# Compare the number of unique samples to the total number of samples\n",
    "print(f\"Total number of samples: {mainnum_samples}\")"
   ]
  },
  {
   "cell_type": "code",
   "execution_count": null,
   "metadata": {},
   "outputs": [],
   "source": [
    "sample_FPI.shape"
   ]
  },
  {
   "cell_type": "code",
   "execution_count": null,
   "metadata": {},
   "outputs": [],
   "source": [
    "# jit_integrator = jit(leapfrog)\n",
    "# # draw qp states\n",
    "# inits, _ = jax.vmap(draw_p, in_axes=(None, 0))(qp_init, keys_main)\n",
    "# vmap_integrator = jax.vmap(jit_integrator)\n",
    "# sample_LF = vmap_integrator(inits)\n",
    "\n",
    "# # Midpoint FPI\n",
    "# jit_integrator = jit(midpointFPI)\n",
    "# vmap_integrator = jax.vmap(jit_integrator)\n",
    "# sample_FPI = vmap_integrator(inits)\n",
    "\n",
    "sample_diff = sample_FPI - sample_LF\n",
    "\n",
    "# norm of the difference along row\n",
    "norm_diff = jnp.linalg.norm(sample_diff, axis=1)\n",
    "\n",
    "# mean,max,min\n",
    "print(\"Mean norm difference:\", jnp.mean(norm_diff))\n",
    "print(\"Max norm difference:\", jnp.max(norm_diff))\n",
    "print(\"Min norm difference:\", jnp.min(norm_diff))"
   ]
  },
  {
   "cell_type": "code",
   "execution_count": null,
   "metadata": {},
   "outputs": [],
   "source": [
    "str(sample_FPI)"
   ]
  },
  {
   "cell_type": "code",
   "execution_count": null,
   "metadata": {},
   "outputs": [],
   "source": [
    "def plot2vecHist(sample, col1, col2, numbins=50):\n",
    "    fig, ax1 = plt.subplots()\n",
    "    ax1.hist2d(np.array(sample[0][:,col1]),np.array(sample[0][:,col2]), bins=numbins, density = True)\n",
    "    ax1.set_xlabel(f'Dim_{col1} Values')\n",
    "    ax1.set_ylabel(f'Dim_{col2} Values')\n",
    "    ax1.set_title(f'Sample_FPI x:Dim_{col1}, y:Dim_{col2}, histogram Accepted Distribution')\n",
    "    plt.show()\n",
    "plot2vecHist(sample_FPI, 4,6)"
   ]
  },
  {
   "cell_type": "code",
   "execution_count": null,
   "metadata": {},
   "outputs": [],
   "source": [
    "def gauss_f(x):\n",
    "    \"\"\"Gaussian target distribution.\"\"\"\n",
    "    return np.exp(-x**2)\n",
    "\n",
    "fig, ax1 = plt.subplots()\n",
    "\n",
    "# Plot histogram of accepted samples\n",
    "ax1.hist(np.array(sample_FPI[:,3]), bins=50, density = True)\n",
    "ax1.set_ylabel('Frequency')\n",
    "ax1.set_xlabel('x-Value')\n",
    "ax1.set_title('FPI Resulting Accepted Distribution vs Target Function')\n",
    "\n",
    "# Plot target distribution\n",
    "# ax2 = ax1.twinx()\n",
    "x_vals = np.linspace(-3, 3, 10000)\n",
    "y_vals = [gauss_f(x)/(np.pi)**0.5 for x in x_vals]\n",
    "ax1.plot(x_vals, y_vals, 'r-', label='Target Function')\n",
    "ax1.set_ylabel('Target Function Value')\n",
    "ax1.set_ylim(0, 0.6)\n",
    "\n",
    "plt.show()"
   ]
  },
  {
   "cell_type": "code",
   "execution_count": null,
   "metadata": {},
   "outputs": [],
   "source": [
    "fig, ax1 = plt.subplots()\n",
    "\n",
    "# Plot histogram of accepted samples\n",
    "ax1.hist2d(np.array(sample_LF[:,0]),np.array(sample_LF[:,1]), bins=50, density = True)\n",
    "ax1.set_ylabel('Frequency')\n",
    "ax1.set_xlabel('x-Value')\n",
    "ax1.set_title('FPI Resulting Accepted Distribution vs Target Function')\n",
    "\n",
    "# Plot target distribution\n",
    "# # ax2 = ax1.twinx()\n",
    "# x_vals = np.linspace(-3, 3, 10000)\n",
    "# y_vals = [gauss_f(x)/(np.pi)**0.5 for x in x_vals]\n",
    "# ax1.plot(x_vals, y_vals, 'r-', label='Target Function')\n",
    "# ax1.set_ylabel('Target Function Value')\n",
    "# ax1.set_ylim(0, 0.6)\n",
    "\n",
    "plt.show()"
   ]
  },
  {
   "cell_type": "code",
   "execution_count": null,
   "metadata": {},
   "outputs": [],
   "source": [
    "sample_diff = sample_FPI[:,:3] - sample_LF[:,:3]\n",
    "\n",
    "# norm of the difference along row\n",
    "norm_diff = jnp.linalg.norm(sample_diff, axis=1)\n",
    "\n",
    "# mean,max,min\n",
    "print(\"Mean norm difference:\", jnp.mean(norm_diff))\n",
    "print(\"Max norm difference:\", jnp.max(norm_diff))\n",
    "print(\"Min norm difference:\", jnp.min(norm_diff))"
   ]
  },
  {
   "cell_type": "code",
   "execution_count": null,
   "metadata": {},
   "outputs": [],
   "source": [
    "norm = jit(jax.vmap(jnp.linalg.norm))"
   ]
  },
  {
   "cell_type": "code",
   "execution_count": null,
   "metadata": {},
   "outputs": [],
   "source": [
    "err = norm(sample_FPI[:,:1000] - sample_LF[:,:1000])"
   ]
  }
 ],
 "metadata": {
  "language_info": {
   "name": "python"
  }
 },
 "nbformat": 4,
 "nbformat_minor": 0
}

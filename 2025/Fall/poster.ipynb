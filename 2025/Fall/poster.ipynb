{
 "cells": [
  {
   "cell_type": "code",
   "execution_count": null,
   "id": "b303ad8b",
   "metadata": {},
   "outputs": [],
   "source": [
    "# -*- coding: utf-8 -*-\n",
    "\"\"\"\n",
    "Module Name: test.py\n",
    "\n",
    "Description:\n",
    "    Test script for the sampler.py module.\n",
    "\n",
    "Author: John Gallagher\n",
    "Created: 2025-09-2\n",
    "Last Modified: 2025-09-02\n",
    "Version: 1.0.0\n",
    "\n",
    "\"\"\"\n",
    "import numpy as np\n",
    "import pandas as pd\n",
    "import matplotlib.pyplot as plt\n",
    "import sampler as samp\n",
    "import distributions as dist\n",
    "# from distributions import gauss_f, nongauss_f, gauss_ndimf\n"
   ]
  },
  {
   "cell_type": "markdown",
   "id": "8007c6cc",
   "metadata": {},
   "source": [
    "\n",
    "Given a Hamiltonian system with a Hamiltonian function $H:\\mathbb{R}^{2d}\\rightarrow \\mathbb{R}$,\n",
    "\n",
    "\\begin{align*}\n",
    "    \\dot{\\bm x}(t)&=J\\nabla H(\\bm x(t)),\\\\\n",
    "    \\bm x(0) &= \\bm x_0\n",
    "\\end{align*}\n",
    "The following scheme is called the Average Vector Field \\cite{QM08} discrete gradient scheme to exactly preserve Hamiltonian: \n",
    "\\begin{align}\n",
    "    \\bm x_{n+1} &= \\bm x_n + \\tau_nJ\\overline{\\nabla H}(\\bm x_{n+1},\\bm x_n), ~\\text{ where } \\\\\n",
    "    \\overline{\\nabla H}(\\bm x_{n+1},\\bm x_n) &= \\int_0^1\\nabla H(\\bm x_n+s(\\bm x_{n+1}-\\bm x_n))ds. \\nonumber\n",
    "\\end{align}\n",
    "$\\overline{\\nabla H}(\\bm x_{n+1},\\bm x_n)$ is a particular example of a discrete gradient (there are other choices also), which satisfies the property\n",
    "\\begin{align*}\n",
    "\\overline{\\nabla H}(\\bm y,\\bm x)^T(\\bm y-\\bm x) = H(\\bm y)-H(\\bm x), ~\\text{for all }\\bm x,\\bm y\\in\\mathbb{R}^{2d}.\n",
    "\\end{align*}\n",
    "It follows from this property that the solutions of the above implicit scheme preserves energy since\n",
    "\\begin{align*}\n",
    "    H(\\bm x_{n+1})-H(\\bm x_n) &= \\overline{\\nabla H}(\\bm x_{n+1},\\bm x_n)^T(\\bm x_{n+1}-\\bm x_n) = \\tau_n \\overline{\\nabla H}(\\bm x_{n+1},\\bm x_n)^TJ\\overline{\\nabla H}(\\bm x_{n+1},\\bm x_n) = 0,\n",
    "\\end{align*}\n",
    "\n",
    "where the last equality follows from by skew symmetric property of $J$. Note that it is also shown in \\cite{MW25} that the AVF scheme is also $R$-reversible, which is needed to show stationarity.\n",
    "\n",
    "In practice to write out the AVF scheme implicit scheme, one can either evaluate the integral analytically (doable mainly for polynomial Hamiltonian like the Gaussian) or approximate using numerical quadratures (typically Gauss-Legendre quadrature).\n",
    "\n",
    "What you want to explore is using various approaches to solve the implicit scheme and compare their running time and complexity (possibly depending on the Lipschitz constant or Hessian information)\n",
    "1) Fixed point iteration - $\\mathcal{O}(d)$ per iteration (this is your baseline solver)\n",
    "2) Newton iteration - $\\mathcal{O}(d^3)$ per iteration\n",
    "3) Quasi-Newton - $\\mathcal{O}(d^2)$ per iteration\n",
    "4) Anderson Acceleration - $\\mathcal{O}(d)$ per iteration + extra storage to store previous iterates"
   ]
  },
  {
   "cell_type": "code",
   "execution_count": null,
   "id": "0228a831",
   "metadata": {},
   "outputs": [],
   "source": [
    "x_0 = np.array([0.0, 0.0])"
   ]
  },
  {
   "cell_type": "code",
   "execution_count": null,
   "id": "2b507c59",
   "metadata": {},
   "outputs": [],
   "source": [
    "def scheme(x, t):\n",
    "    return np.dot(x, )"
   ]
  },
  {
   "cell_type": "code",
   "execution_count": null,
   "id": "ebd9eaf5",
   "metadata": {},
   "outputs": [],
   "source": [
    "samp.gauss_ndimf(x_0)\n"
   ]
  },
  {
   "cell_type": "code",
   "execution_count": null,
   "id": "5af8b486",
   "metadata": {},
   "outputs": [],
   "source": [
    "dist.gauss_f(2)"
   ]
  },
  {
   "cell_type": "code",
   "execution_count": null,
   "id": "4039b556",
   "metadata": {},
   "outputs": [],
   "source": []
  }
 ],
 "metadata": {
  "language_info": {
   "name": "python"
  }
 },
 "nbformat": 4,
 "nbformat_minor": 5
}

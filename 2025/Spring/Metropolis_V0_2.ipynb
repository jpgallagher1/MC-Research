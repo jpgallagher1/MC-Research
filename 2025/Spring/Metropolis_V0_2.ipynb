{
 "cells": [
  {
   "cell_type": "markdown",
   "metadata": {},
   "source": [
    "# Metropolis-Hastings Algorithm\n",
    "\n",
    "This is a first pass at implementing a Metropolis-Hastings algorithm.  \n",
    "\n",
    "Background: Estimating a distribution is hard. Below is heavily copied from a paper: [Robert-2016: https://arxiv.org/pdf/1504.01896]\n",
    "\n",
    "\n",
    ">There are many cases where \"computing an integral like \n",
    ">$$ \\mathcal{J}(h) = \\int_\\mathcal{X} h(x) d\\pi(x),$$\n",
    ">where $d\\pi$ is a probability measure, may prove intractable, from the shape of the domain $\\mathcal{X}$ to the dimension of $\\mathcal{X}$ (and $x$), to the complexity of one of the functions $h$ or $π$.\"  \n",
    ">\n",
    ">Classical Monte Carlo methods face many challenges especially when attempting to reproduce a specific distribution. By using a Markov Chain in conjunction with the Monte Carlo method it is possible to address some of the issues associated with modeling a complex distribution and particularly the curse of dimensionality. \\\n",
    ">\n",
    ">The Metropolis-Hastings Algorithm is developed from two seminal papers: Metropolis, et al. 1953, and Hastings, 1970.  Given a probability distribution $\\pi$ and a state space $\\mathcal{X}$, that is computable up to some multiplying constant $\\pi(x) \\propto \\tilde{\\pi}(x)$. The Metropolis-Hastings algorithm in a generic way constructs a Markov chain on $\\mathcal{x}$ that is ergodic and stationary with respect to our probability measure $\\pi$ -- meaning that if $X^{(t)} ~ \\pi(x)$, then $X^{(t+1)} ~ \\pi(x)$ successive estimates $X^{(t)} ~ \\pi(x)$-- which will eventually converges in distribution to $\\pi$."
   ]
  },
  {
   "cell_type": "markdown",
   "metadata": {},
   "source": [
    "The pseudocode is as follows: \n",
    "\n",
    "```\n",
    "#### Metropolis Algorithm ####\n",
    "Draw theta_0\n",
    "for i = 1,2,... do\n",
    "    Draw theta_star ~ N( theta_i, sigma^2) //Make a new proposal\n",
    "    alpha     <- min{1, P( theta_star)/P( theta_i)} // Compute acceptance rate\n",
    "    theta_i+1 <- accept: \n",
    "                    theta_star, probability = alpha\n",
    "                    theta_i,    probability = 1- alpha\n",
    "```"
   ]
  },
  {
   "cell_type": "markdown",
   "metadata": {},
   "source": [
    "Nah Lets try it on my own with a simple gaussian distribution:Again I am pulling from another online resource: [https://blog.djnavarro.net/posts/2023-04-12_metropolis-hastings/]\n",
    "This is implemented with R but I am using python.  I've copied the code in R with suitable modifications for python.  Hopefully it works in a straightforward way.  \n",
    "\n",
    "~~Let's start with some target function:~~\n",
    "$$ p(x) = \\frac{\\exp{(-x^2)(2 + \\sin{(5x)} + \\sin{(2x)})}}{\\int_{-\\infty}^\\infty \\exp{(-u^2)(2 + \\sin{(5u)} + \\sin{(2u)})}du}$$"
   ]
  },
  {
   "cell_type": "code",
   "execution_count": 2,
   "metadata": {},
   "outputs": [],
   "source": [
    "import numpy as np\n",
    "import pandas as pd\n",
    "import matplotlib.pyplot as plt"
   ]
  },
  {
   "cell_type": "code",
   "execution_count": null,
   "metadata": {},
   "outputs": [],
   "source": [
    "def nongauss_f(x):\n",
    "    return np.exp(-x**2*(2+np.sin(5*x)+np.sin(2*x)))\n",
    "def gauss_f(x):\n",
    "    return np.exp(-x**2)\n",
    "def metropolis_step(x, sigma, function):\n",
    "    proposed_x = np.random.normal(x, sigma)\n",
    "    alpha = min(1, function(proposed_x)/function(x)) #why does this fraction work? Base case is we draw from the center of distributions and we want more information on the curvature.  The smaller probabilties (lower values) are associated with getting more information about the smaller regions. \n",
    "    u = np.random.uniform()\n",
    "    if u < alpha:\n",
    "        value = proposed_x\n",
    "        accepted = True\n",
    "    else:\n",
    "        value = x\n",
    "        accepted = False\n",
    "    return value, accepted\n",
    "def metropolis_sampler(initial_val, function, n=1000, sigma = 1):\n",
    "    results = []\n",
    "    current_state = initial_val\n",
    "    for i in range(0, n):\n",
    "        out = metropolis_step(current_state, sigma, function)\n",
    "        current_state = out[0]\n",
    "        results.append(out)\n",
    "    return results"
   ]
  },
  {
   "cell_type": "code",
   "execution_count": 12,
   "metadata": {},
   "outputs": [],
   "source": [
    "np.random.seed(1234)\n",
    "n = 1000\n",
    "sigma = 12\n",
    "sample = metropolis_sampler(0.1, nongauss_f, n = n,sigma=sigma)"
   ]
  },
  {
   "cell_type": "code",
   "execution_count": 13,
   "metadata": {},
   "outputs": [
    {
     "data": {
      "text/html": [
       "<div>\n",
       "<style scoped>\n",
       "    .dataframe tbody tr th:only-of-type {\n",
       "        vertical-align: middle;\n",
       "    }\n",
       "\n",
       "    .dataframe tbody tr th {\n",
       "        vertical-align: top;\n",
       "    }\n",
       "\n",
       "    .dataframe thead th {\n",
       "        text-align: right;\n",
       "    }\n",
       "</style>\n",
       "<table border=\"1\" class=\"dataframe\">\n",
       "  <thead>\n",
       "    <tr style=\"text-align: right;\">\n",
       "      <th></th>\n",
       "      <th>0</th>\n",
       "      <th>1</th>\n",
       "    </tr>\n",
       "  </thead>\n",
       "  <tbody>\n",
       "    <tr>\n",
       "      <th>985</th>\n",
       "      <td>-0.296074</td>\n",
       "      <td>False</td>\n",
       "    </tr>\n",
       "    <tr>\n",
       "      <th>986</th>\n",
       "      <td>-0.296074</td>\n",
       "      <td>False</td>\n",
       "    </tr>\n",
       "    <tr>\n",
       "      <th>987</th>\n",
       "      <td>-0.296074</td>\n",
       "      <td>False</td>\n",
       "    </tr>\n",
       "    <tr>\n",
       "      <th>988</th>\n",
       "      <td>-0.296074</td>\n",
       "      <td>False</td>\n",
       "    </tr>\n",
       "    <tr>\n",
       "      <th>989</th>\n",
       "      <td>-0.296074</td>\n",
       "      <td>False</td>\n",
       "    </tr>\n",
       "    <tr>\n",
       "      <th>990</th>\n",
       "      <td>-0.296074</td>\n",
       "      <td>False</td>\n",
       "    </tr>\n",
       "    <tr>\n",
       "      <th>991</th>\n",
       "      <td>-0.296074</td>\n",
       "      <td>False</td>\n",
       "    </tr>\n",
       "    <tr>\n",
       "      <th>992</th>\n",
       "      <td>-0.837378</td>\n",
       "      <td>True</td>\n",
       "    </tr>\n",
       "    <tr>\n",
       "      <th>993</th>\n",
       "      <td>-0.837378</td>\n",
       "      <td>False</td>\n",
       "    </tr>\n",
       "    <tr>\n",
       "      <th>994</th>\n",
       "      <td>-0.457193</td>\n",
       "      <td>True</td>\n",
       "    </tr>\n",
       "    <tr>\n",
       "      <th>995</th>\n",
       "      <td>-0.457193</td>\n",
       "      <td>False</td>\n",
       "    </tr>\n",
       "    <tr>\n",
       "      <th>996</th>\n",
       "      <td>-0.457193</td>\n",
       "      <td>False</td>\n",
       "    </tr>\n",
       "    <tr>\n",
       "      <th>997</th>\n",
       "      <td>-0.457193</td>\n",
       "      <td>False</td>\n",
       "    </tr>\n",
       "    <tr>\n",
       "      <th>998</th>\n",
       "      <td>0.551340</td>\n",
       "      <td>True</td>\n",
       "    </tr>\n",
       "    <tr>\n",
       "      <th>999</th>\n",
       "      <td>0.551340</td>\n",
       "      <td>False</td>\n",
       "    </tr>\n",
       "  </tbody>\n",
       "</table>\n",
       "</div>"
      ],
      "text/plain": [
       "            0      1\n",
       "985 -0.296074  False\n",
       "986 -0.296074  False\n",
       "987 -0.296074  False\n",
       "988 -0.296074  False\n",
       "989 -0.296074  False\n",
       "990 -0.296074  False\n",
       "991 -0.296074  False\n",
       "992 -0.837378   True\n",
       "993 -0.837378  False\n",
       "994 -0.457193   True\n",
       "995 -0.457193  False\n",
       "996 -0.457193  False\n",
       "997 -0.457193  False\n",
       "998  0.551340   True\n",
       "999  0.551340  False"
      ]
     },
     "execution_count": 13,
     "metadata": {},
     "output_type": "execute_result"
    }
   ],
   "source": [
    "data = pd.DataFrame(sample)\n",
    "data.tail(15)"
   ]
  },
  {
   "cell_type": "code",
   "execution_count": null,
   "metadata": {},
   "outputs": [],
   "source": []
  },
  {
   "cell_type": "code",
   "execution_count": 9,
   "metadata": {},
   "outputs": [],
   "source": [
    "accepted = data\n",
    "#rejected = data[data[1]!=True]\n",
    "xval = np.linspace(-11,11, n)\n",
    "yval = nongauss_f(xval)\n"
   ]
  },
  {
   "cell_type": "code",
   "execution_count": 10,
   "metadata": {},
   "outputs": [
    {
     "name": "stderr",
     "output_type": "stream",
     "text": [
      "<>:9: SyntaxWarning: invalid escape sequence '\\e'\n",
      "<>:9: SyntaxWarning: invalid escape sequence '\\e'\n",
      "/var/folders/cf/2c70vlmd4zb0rmx_c3fdlmx00000gn/T/ipykernel_62570/3485003854.py:9: SyntaxWarning: invalid escape sequence '\\e'\n",
      "  '$f(x) = \\exp{[(-x^2)(2 + \\sin{(5x)} + \\sin{(2x))]}}$' )\n"
     ]
    },
    {
     "data": {
      "text/plain": [
       "[<matplotlib.lines.Line2D at 0x15a35f8f0>]"
      ]
     },
     "execution_count": 10,
     "metadata": {},
     "output_type": "execute_result"
    },
    {
     "data": {
      "image/png": "[encoded data removed]",
      "text/plain": [
       "<Figure size 640x480 with 2 Axes>"
      ]
     },
     "metadata": {},
     "output_type": "display_data"
    }
   ],
   "source": [
    "fig, plt1 = plt.subplots()\n",
    "\n",
    "# First y-axis with histogram\n",
    "plt1.hist(accepted[0],bins=25)\n",
    "plt1.set_ylabel('Frequency')\n",
    "plt1.set_xlabel('x-Value')\n",
    "plt1.set_title('Resulting Accepted Distribution vs Target Function'\n",
    "               '\\n' \n",
    "               '$f(x) = \\exp{[(-x^2)(2 + \\sin{(5x)} + \\sin{(2x))]}}$' )\n",
    "\n",
    "# Second y-axis with target distribution\n",
    "color = 'tab:red'\n",
    "plt2 = plt1.twinx()\n",
    "plt2.set_ylabel('Target Function Value')\n",
    "plt2.set_ylim(0,1)\n",
    "plt2.plot(xval, yval, label='Target Function', color = color)\n"
   ]
  },
  {
   "cell_type": "code",
   "execution_count": 10,
   "metadata": {},
   "outputs": [
    {
     "data": {
      "text/plain": [
       "Text(0.5, 1.0, 'Resulting Rejected Distribution')"
      ]
     },
     "execution_count": 10,
     "metadata": {},
     "output_type": "execute_result"
    },
    {
     "data": {
      "image/png": "[encoded data removed]",
      "text/plain": [
       "<Figure size 640x480 with 1 Axes>"
      ]
     },
     "metadata": {},
     "output_type": "display_data"
    }
   ],
   "source": [
    "plt.hist(rejected[0],bins=50)\n",
    "plt.ylabel('Frequency')\n",
    "plt.xlabel('Value')\n",
    "plt.title('Resulting Rejected Distribution')"
   ]
  },
  {
   "cell_type": "markdown",
   "metadata": {},
   "source": [
    "# 2d Metropolis Algorithm\n",
    "\n",
    "Okay lets try to do this in two dimensions now.  At least we will still be able to visualize this in lower dimensions.  \n",
    "\n",
    "Going to try and implement a 2-dim gaussian First I'll just naively implement it as $(x,y)$ and then do a histogram in the z-axis.  "
   ]
  },
  {
   "cell_type": "code",
   "execution_count": 73,
   "metadata": {},
   "outputs": [],
   "source": [
    "def gauss_f_2dim(x,y):\n",
    "    return gauss_f(x+y)\n",
    "def dependent_y(X, c):\n",
    "    n = len(X)\n",
    "    Y = X.copy()\n",
    "    for i in np.argwhere(abs(Y) <= c):\n",
    "        Y[i] = -1*Y[i]\n",
    "    return Y\n",
    "def generate_X(n):\n",
    "     np.random.rand(n)"
   ]
  },
  {
   "cell_type": "code",
   "execution_count": null,
   "metadata": {},
   "outputs": [],
   "source": []
  },
  {
   "cell_type": "code",
   "execution_count": 70,
   "metadata": {},
   "outputs": [
    {
     "name": "stdout",
     "output_type": "stream",
     "text": [
      "[0]\n",
      "[0] [-0.26654519]\n",
      "[1]\n",
      "[1] [-0.28437237]\n",
      "[5]\n",
      "[5] [-0.20014895]\n",
      "[0.26654519 0.28437237 0.80334852 0.51755656 0.84897422 0.20014895\n",
      " 0.77996228 0.4731082  0.61397922 0.30344692] [-0.26654519 -0.28437237  0.80334852  0.51755656  0.84897422 -0.20014895\n",
      "  0.77996228  0.4731082   0.61397922  0.30344692]\n"
     ]
    },
    {
     "data": {
      "text/plain": [
       "array([[0],\n",
       "       [1],\n",
       "       [5]])"
      ]
     },
     "execution_count": 70,
     "metadata": {},
     "output_type": "execute_result"
    }
   ],
   "source": [
    "n = 10\n",
    "test = np.random.rand(n)\n",
    "Y = dependent_y(test, 0.3) \n",
    "print(test.T, Y.T)\n",
    "testloc = np.argwhere(abs(test) <= 0.3)\n",
    "testloc"
   ]
  },
  {
   "cell_type": "code",
   "execution_count": 88,
   "metadata": {},
   "outputs": [
    {
     "data": {
      "text/plain": [
       "array([[1.        , 0.61157038],\n",
       "       [0.61157038, 1.        ]])"
      ]
     },
     "execution_count": 88,
     "metadata": {},
     "output_type": "execute_result"
    }
   ],
   "source": [
    "n = 1000\n",
    "test = np.random.rand(n)\n",
    "Y = dependent_y(test, .7)\n",
    "Xmat = np.column_stack((test, Y)).T\n",
    "Xcorr = np.corrcoef(Xmat)\n",
    "Xcorr"
   ]
  },
  {
   "cell_type": "code",
   "execution_count": 80,
   "metadata": {},
   "outputs": [
    {
     "data": {
      "text/plain": [
       "array([[ 1., -1.],\n",
       "       [-1.,  1.]])"
      ]
     },
     "execution_count": 80,
     "metadata": {},
     "output_type": "execute_result"
    }
   ],
   "source": [
    "Xcorr"
   ]
  },
  {
   "cell_type": "code",
   "execution_count": 87,
   "metadata": {},
   "outputs": [
    {
     "data": {
      "text/plain": [
       "0.7142857142857143"
      ]
     },
     "execution_count": 87,
     "metadata": {},
     "output_type": "execute_result"
    }
   ],
   "source": [
    "1/1.4"
   ]
  },
  {
   "cell_type": "code",
   "execution_count": null,
   "metadata": {},
   "outputs": [],
   "source": []
  }
 ],
 "metadata": {
  "kernelspec": {
   "display_name": "base",
   "language": "python",
   "name": "python3"
  },
  "language_info": {
   "codemirror_mode": {
    "name": "ipython",
    "version": 3
   },
   "file_extension": ".py",
   "mimetype": "text/x-python",
   "name": "python",
   "nbconvert_exporter": "python",
   "pygments_lexer": "ipython3",
   "version": "3.12.4"
  }
 },
 "nbformat": 4,
 "nbformat_minor": 2
}
